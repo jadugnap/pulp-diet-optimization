{
 "metadata": {
  "language_info": {
   "codemirror_mode": {
    "name": "ipython",
    "version": 3
   },
   "file_extension": ".py",
   "mimetype": "text/x-python",
   "name": "python",
   "nbconvert_exporter": "python",
   "pygments_lexer": "ipython3",
   "version": "3.8.2"
  },
  "orig_nbformat": 2,
  "kernelspec": {
   "name": "python382jvsc74a57bd031f2aee4e71d21fbe5cf8b01ff0e069b9275f58929596ceb00d14d90e3e16cd6",
   "display_name": "Python 3.8.2 64-bit"
  },
  "metadata": {
   "interpreter": {
    "hash": "31f2aee4e71d21fbe5cf8b01ff0e069b9275f58929596ceb00d14d90e3e16cd6"
   }
  }
 },
 "nbformat": 4,
 "nbformat_minor": 2,
 "cells": [
  {
   "cell_type": "code",
   "execution_count": 1,
   "metadata": {},
   "outputs": [],
   "source": [
    "from pulp import LpProblem, LpMinimize, LpVariable, lpSum, value\n",
    "import pandas as pd"
   ]
  },
  {
   "cell_type": "code",
   "execution_count": 2,
   "metadata": {},
   "outputs": [
    {
     "output_type": "stream",
     "name": "stdout",
     "text": [
      "<class 'pandas.core.frame.DataFrame'>\n(67, 14)\n"
     ]
    },
    {
     "output_type": "execute_result",
     "data": {
      "text/plain": [
       "             Foods  Price/_Serving      Serving_Size  Calories  \\\n",
       "0  Frozen_Broccoli            0.16         10_Oz_Pkg      73.8   \n",
       "1      Carrots,Raw            0.07  1/2_Cup_Shredded      23.7   \n",
       "2      Celery,_Raw            0.04           1_Stalk       6.4   \n",
       "\n",
       "   Cholesterol_mg  Total_Fat_g  Sodium_mg  Carbohydrates_g  Dietary_Fiber_g  \\\n",
       "0             0.0          0.8       68.2             13.6              8.5   \n",
       "1             0.0          0.1       19.2              5.6              1.6   \n",
       "2             0.0          0.1       34.8              1.5              0.7   \n",
       "\n",
       "   Protein_g  Vit_A_IU  Vit_C_IU  Calcium_mg  Iron_mg  \n",
       "0        8.0    5867.4     160.2       159.0      2.3  \n",
       "1        0.6   15471.0       5.1        14.9      0.3  \n",
       "2        0.3      53.6       2.8        16.0      0.2  "
      ],
      "text/html": "<div>\n<style scoped>\n    .dataframe tbody tr th:only-of-type {\n        vertical-align: middle;\n    }\n\n    .dataframe tbody tr th {\n        vertical-align: top;\n    }\n\n    .dataframe thead th {\n        text-align: right;\n    }\n</style>\n<table border=\"1\" class=\"dataframe\">\n  <thead>\n    <tr style=\"text-align: right;\">\n      <th></th>\n      <th>Foods</th>\n      <th>Price/_Serving</th>\n      <th>Serving_Size</th>\n      <th>Calories</th>\n      <th>Cholesterol_mg</th>\n      <th>Total_Fat_g</th>\n      <th>Sodium_mg</th>\n      <th>Carbohydrates_g</th>\n      <th>Dietary_Fiber_g</th>\n      <th>Protein_g</th>\n      <th>Vit_A_IU</th>\n      <th>Vit_C_IU</th>\n      <th>Calcium_mg</th>\n      <th>Iron_mg</th>\n    </tr>\n  </thead>\n  <tbody>\n    <tr>\n      <th>0</th>\n      <td>Frozen_Broccoli</td>\n      <td>0.16</td>\n      <td>10_Oz_Pkg</td>\n      <td>73.8</td>\n      <td>0.0</td>\n      <td>0.8</td>\n      <td>68.2</td>\n      <td>13.6</td>\n      <td>8.5</td>\n      <td>8.0</td>\n      <td>5867.4</td>\n      <td>160.2</td>\n      <td>159.0</td>\n      <td>2.3</td>\n    </tr>\n    <tr>\n      <th>1</th>\n      <td>Carrots,Raw</td>\n      <td>0.07</td>\n      <td>1/2_Cup_Shredded</td>\n      <td>23.7</td>\n      <td>0.0</td>\n      <td>0.1</td>\n      <td>19.2</td>\n      <td>5.6</td>\n      <td>1.6</td>\n      <td>0.6</td>\n      <td>15471.0</td>\n      <td>5.1</td>\n      <td>14.9</td>\n      <td>0.3</td>\n    </tr>\n    <tr>\n      <th>2</th>\n      <td>Celery,_Raw</td>\n      <td>0.04</td>\n      <td>1_Stalk</td>\n      <td>6.4</td>\n      <td>0.0</td>\n      <td>0.1</td>\n      <td>34.8</td>\n      <td>1.5</td>\n      <td>0.7</td>\n      <td>0.3</td>\n      <td>53.6</td>\n      <td>2.8</td>\n      <td>16.0</td>\n      <td>0.2</td>\n    </tr>\n  </tbody>\n</table>\n</div>"
     },
     "metadata": {},
     "execution_count": 2
    }
   ],
   "source": [
    "# create new dataframe\n",
    "raw_diet_df = pd.read_excel('diet.xls')\n",
    "print(type(raw_diet_df))\n",
    "print(raw_diet_df.shape)\n",
    "raw_diet_df.columns = raw_diet_df.columns.str.replace(' ', '_')\n",
    "raw_diet_df = raw_diet_df.replace(' ', '_', regex=True)\n",
    "\n",
    "# print head\n",
    "raw_diet_df.head(3)"
   ]
  },
  {
   "cell_type": "code",
   "execution_count": 3,
   "metadata": {},
   "outputs": [
    {
     "output_type": "execute_result",
     "data": {
      "text/plain": [
       "                   Foods  Price/_Serving          Serving_Size  Calories  \\\n",
       "62  Crm_Mshrm_Soup,W/Mlk            0.65         1_C_(8_Fl_Oz)     203.4   \n",
       "63  Beanbacn_Soup,W/Watr            0.67         1_C_(8_Fl_Oz)     172.0   \n",
       "64                   NaN             NaN                   NaN       NaN   \n",
       "65                   NaN             NaN  Minimum_daily_intake    1500.0   \n",
       "66                   NaN             NaN  Maximum_daily_intake    2500.0   \n",
       "\n",
       "    Cholesterol_mg  Total_Fat_g  Sodium_mg  Carbohydrates_g  Dietary_Fiber_g  \\\n",
       "62            19.8         13.6     1076.3             15.0              0.5   \n",
       "63             2.5          5.9      951.3             22.8              8.6   \n",
       "64             NaN          NaN        NaN              NaN              NaN   \n",
       "65            30.0         20.0      800.0            130.0            125.0   \n",
       "66           240.0         70.0     2000.0            450.0            250.0   \n",
       "\n",
       "    Protein_g  Vit_A_IU  Vit_C_IU  Calcium_mg  Iron_mg  \n",
       "62        6.1     153.8       2.2       178.6      0.6  \n",
       "63        7.9     888.0       1.5        81.0      2.0  \n",
       "64        NaN       NaN       NaN         NaN      NaN  \n",
       "65       60.0    1000.0     400.0       700.0     10.0  \n",
       "66      100.0   10000.0    5000.0      1500.0     40.0  "
      ],
      "text/html": "<div>\n<style scoped>\n    .dataframe tbody tr th:only-of-type {\n        vertical-align: middle;\n    }\n\n    .dataframe tbody tr th {\n        vertical-align: top;\n    }\n\n    .dataframe thead th {\n        text-align: right;\n    }\n</style>\n<table border=\"1\" class=\"dataframe\">\n  <thead>\n    <tr style=\"text-align: right;\">\n      <th></th>\n      <th>Foods</th>\n      <th>Price/_Serving</th>\n      <th>Serving_Size</th>\n      <th>Calories</th>\n      <th>Cholesterol_mg</th>\n      <th>Total_Fat_g</th>\n      <th>Sodium_mg</th>\n      <th>Carbohydrates_g</th>\n      <th>Dietary_Fiber_g</th>\n      <th>Protein_g</th>\n      <th>Vit_A_IU</th>\n      <th>Vit_C_IU</th>\n      <th>Calcium_mg</th>\n      <th>Iron_mg</th>\n    </tr>\n  </thead>\n  <tbody>\n    <tr>\n      <th>62</th>\n      <td>Crm_Mshrm_Soup,W/Mlk</td>\n      <td>0.65</td>\n      <td>1_C_(8_Fl_Oz)</td>\n      <td>203.4</td>\n      <td>19.8</td>\n      <td>13.6</td>\n      <td>1076.3</td>\n      <td>15.0</td>\n      <td>0.5</td>\n      <td>6.1</td>\n      <td>153.8</td>\n      <td>2.2</td>\n      <td>178.6</td>\n      <td>0.6</td>\n    </tr>\n    <tr>\n      <th>63</th>\n      <td>Beanbacn_Soup,W/Watr</td>\n      <td>0.67</td>\n      <td>1_C_(8_Fl_Oz)</td>\n      <td>172.0</td>\n      <td>2.5</td>\n      <td>5.9</td>\n      <td>951.3</td>\n      <td>22.8</td>\n      <td>8.6</td>\n      <td>7.9</td>\n      <td>888.0</td>\n      <td>1.5</td>\n      <td>81.0</td>\n      <td>2.0</td>\n    </tr>\n    <tr>\n      <th>64</th>\n      <td>NaN</td>\n      <td>NaN</td>\n      <td>NaN</td>\n      <td>NaN</td>\n      <td>NaN</td>\n      <td>NaN</td>\n      <td>NaN</td>\n      <td>NaN</td>\n      <td>NaN</td>\n      <td>NaN</td>\n      <td>NaN</td>\n      <td>NaN</td>\n      <td>NaN</td>\n      <td>NaN</td>\n    </tr>\n    <tr>\n      <th>65</th>\n      <td>NaN</td>\n      <td>NaN</td>\n      <td>Minimum_daily_intake</td>\n      <td>1500.0</td>\n      <td>30.0</td>\n      <td>20.0</td>\n      <td>800.0</td>\n      <td>130.0</td>\n      <td>125.0</td>\n      <td>60.0</td>\n      <td>1000.0</td>\n      <td>400.0</td>\n      <td>700.0</td>\n      <td>10.0</td>\n    </tr>\n    <tr>\n      <th>66</th>\n      <td>NaN</td>\n      <td>NaN</td>\n      <td>Maximum_daily_intake</td>\n      <td>2500.0</td>\n      <td>240.0</td>\n      <td>70.0</td>\n      <td>2000.0</td>\n      <td>450.0</td>\n      <td>250.0</td>\n      <td>100.0</td>\n      <td>10000.0</td>\n      <td>5000.0</td>\n      <td>1500.0</td>\n      <td>40.0</td>\n    </tr>\n  </tbody>\n</table>\n</div>"
     },
     "metadata": {},
     "execution_count": 3
    }
   ],
   "source": [
    "# print tail, showing that the food & contraints information are mixed up\n",
    "raw_diet_df.tail(5)"
   ]
  },
  {
   "cell_type": "code",
   "execution_count": 4,
   "metadata": {},
   "outputs": [],
   "source": [
    "# store constraints information only\n",
    "constraints_df = raw_diet_df[65:].copy()\n",
    "constraints_df.set_index('Serving_Size', drop=True, inplace=True)\n",
    "constraints_df.rename(index={'Minimum_daily_intake':'Minimum'}, inplace=True)\n",
    "constraints_df.rename(index={'Maximum_daily_intake':'Maximum'}, inplace=True)\n",
    "constraints_df.drop(columns=['Foods', 'Price/_Serving'], inplace=True)\n",
    "\n",
    "# convert df into dictionary\n",
    "constraint_of = constraints_df.to_dict()\n",
    "# constraint_of"
   ]
  },
  {
   "cell_type": "code",
   "execution_count": 5,
   "metadata": {},
   "outputs": [
    {
     "output_type": "execute_result",
     "data": {
      "text/plain": [
       "                   Foods  Price/_Serving   Serving_Size  Calories  \\\n",
       "61  New_E_Clamchwd,W/Mlk            0.99  1_C_(8_Fl_Oz)     163.7   \n",
       "62  Crm_Mshrm_Soup,W/Mlk            0.65  1_C_(8_Fl_Oz)     203.4   \n",
       "63  Beanbacn_Soup,W/Watr            0.67  1_C_(8_Fl_Oz)     172.0   \n",
       "\n",
       "    Cholesterol_mg  Total_Fat_g  Sodium_mg  Carbohydrates_g  Dietary_Fiber_g  \\\n",
       "61            22.3          6.6      992.0             16.6              1.5   \n",
       "62            19.8         13.6     1076.3             15.0              0.5   \n",
       "63             2.5          5.9      951.3             22.8              8.6   \n",
       "\n",
       "    Protein_g  Vit_A_IU  Vit_C_IU  Calcium_mg  Iron_mg  \n",
       "61        9.5     163.7       3.5       186.0      1.5  \n",
       "62        6.1     153.8       2.2       178.6      0.6  \n",
       "63        7.9     888.0       1.5        81.0      2.0  "
      ],
      "text/html": "<div>\n<style scoped>\n    .dataframe tbody tr th:only-of-type {\n        vertical-align: middle;\n    }\n\n    .dataframe tbody tr th {\n        vertical-align: top;\n    }\n\n    .dataframe thead th {\n        text-align: right;\n    }\n</style>\n<table border=\"1\" class=\"dataframe\">\n  <thead>\n    <tr style=\"text-align: right;\">\n      <th></th>\n      <th>Foods</th>\n      <th>Price/_Serving</th>\n      <th>Serving_Size</th>\n      <th>Calories</th>\n      <th>Cholesterol_mg</th>\n      <th>Total_Fat_g</th>\n      <th>Sodium_mg</th>\n      <th>Carbohydrates_g</th>\n      <th>Dietary_Fiber_g</th>\n      <th>Protein_g</th>\n      <th>Vit_A_IU</th>\n      <th>Vit_C_IU</th>\n      <th>Calcium_mg</th>\n      <th>Iron_mg</th>\n    </tr>\n  </thead>\n  <tbody>\n    <tr>\n      <th>61</th>\n      <td>New_E_Clamchwd,W/Mlk</td>\n      <td>0.99</td>\n      <td>1_C_(8_Fl_Oz)</td>\n      <td>163.7</td>\n      <td>22.3</td>\n      <td>6.6</td>\n      <td>992.0</td>\n      <td>16.6</td>\n      <td>1.5</td>\n      <td>9.5</td>\n      <td>163.7</td>\n      <td>3.5</td>\n      <td>186.0</td>\n      <td>1.5</td>\n    </tr>\n    <tr>\n      <th>62</th>\n      <td>Crm_Mshrm_Soup,W/Mlk</td>\n      <td>0.65</td>\n      <td>1_C_(8_Fl_Oz)</td>\n      <td>203.4</td>\n      <td>19.8</td>\n      <td>13.6</td>\n      <td>1076.3</td>\n      <td>15.0</td>\n      <td>0.5</td>\n      <td>6.1</td>\n      <td>153.8</td>\n      <td>2.2</td>\n      <td>178.6</td>\n      <td>0.6</td>\n    </tr>\n    <tr>\n      <th>63</th>\n      <td>Beanbacn_Soup,W/Watr</td>\n      <td>0.67</td>\n      <td>1_C_(8_Fl_Oz)</td>\n      <td>172.0</td>\n      <td>2.5</td>\n      <td>5.9</td>\n      <td>951.3</td>\n      <td>22.8</td>\n      <td>8.6</td>\n      <td>7.9</td>\n      <td>888.0</td>\n      <td>1.5</td>\n      <td>81.0</td>\n      <td>2.0</td>\n    </tr>\n  </tbody>\n</table>\n</div>"
     },
     "metadata": {},
     "execution_count": 5
    }
   ],
   "source": [
    "# remove constraints information\n",
    "diet_df = raw_diet_df[:64].copy()\n",
    "diet_df.tail(3)"
   ]
  },
  {
   "cell_type": "code",
   "execution_count": 6,
   "metadata": {},
   "outputs": [],
   "source": [
    "# store food types\n",
    "diet_df.set_index('Foods', drop=True, inplace=True)\n",
    "food_types = diet_df.index.values.tolist()\n",
    "\n",
    "# store cost information\n",
    "cost_of = diet_df['Price/_Serving'].to_dict()\n",
    "\n",
    "# store nutrients information\n",
    "diet_df.drop(columns=['Price/_Serving','Serving_Size'], inplace=True)\n",
    "nutrient_dict = dict()\n",
    "nutrients_list = diet_df.columns.values.tolist()\n",
    "for nutrient in nutrients_list:\n",
    "    nutrient_dict[nutrient] = diet_df[nutrient].to_dict()\n",
    "\n",
    "# print(list( nutrient_dict.items() )[:1])"
   ]
  },
  {
   "cell_type": "code",
   "execution_count": 7,
   "metadata": {},
   "outputs": [
    {
     "output_type": "stream",
     "name": "stdout",
     "text": [
      "<class 'pulp.pulp.LpProblem'>\nCheapestDiet:\nMINIMIZE\nNone\nVARIABLES\n\n"
     ]
    }
   ],
   "source": [
    "# initialize Linear Program with LpProblem\n",
    "problem_cheapest = LpProblem(\"CheapestDiet\", LpMinimize)\n",
    "\n",
    "print(type(problem_cheapest))\n",
    "print(problem_cheapest)"
   ]
  },
  {
   "cell_type": "code",
   "execution_count": 8,
   "metadata": {},
   "outputs": [],
   "source": [
    "# add Variable with LpVariable.dicts\n",
    "X = LpVariable.dicts(\"Units_serving_of\", food_types, 0)"
   ]
  },
  {
   "cell_type": "code",
   "execution_count": 9,
   "metadata": {},
   "outputs": [
    {
     "output_type": "stream",
     "name": "stdout",
     "text": [
      "CheapestDiet:\nMINIMIZE\n0.23*Units_serving_of_2%_Lowfat_Milk + 0.16*Units_serving_of_3.3%_Fat,Whole_Milk + 0.24*Units_serving_of_Apple,Raw,W_Skin + 0.16*Units_serving_of_Apple_Pie + 0.16*Units_serving_of_Bagels + 0.15*Units_serving_of_Banana + 0.67*Units_serving_of_Beanbacn_Soup,W_Watr + 0.15*Units_serving_of_Bologna,Turkey + 0.05*Units_serving_of_Butter,Regular + 0.31*Units_serving_of_Cap'N_Crunch + 0.07*Units_serving_of_Carrots,Raw + 0.04*Units_serving_of_Celery,_Raw + 0.25*Units_serving_of_Cheddar_Cheese + 0.28*Units_serving_of_Cheerios + 0.39*Units_serving_of_Chicknoodl_Soup + 0.03*Units_serving_of_Chocolate_Chip_Cookies + 0.28*Units_serving_of_Corn_Flks,_Kellogg'S + 0.39*Units_serving_of_Couscous + 0.65*Units_serving_of_Crm_Mshrm_Soup,W_Mlk + 0.27*Units_serving_of_Frankfurter,_Beef + 0.16*Units_serving_of_Frozen_Broccoli + 0.18*Units_serving_of_Frozen_Corn + 0.32*Units_serving_of_Grapes + 0.33*Units_serving_of_Ham,Sliced,Extralean + 0.83*Units_serving_of_Hamburger_W_Toppings + 0.31*Units_serving_of_Hotdog,_Plain + 0.15*Units_serving_of_Kielbasa,Prk + 0.49*Units_serving_of_Kiwifruit,Raw,Fresh + 0.02*Units_serving_of_Lettuce,Iceberg,Raw + 0.17*Units_serving_of_Macaroni,Ckd + 0.52*Units_serving_of_Malt_O_Meal,Choc + 0.99*Units_serving_of_New_E_Clamchwd,W_Mlk + 0.75*Units_serving_of_Neweng_Clamchwd + 0.82*Units_serving_of_Oatmeal + 0.09*Units_serving_of_Oatmeal_Cookies + 0.15*Units_serving_of_Oranges + 0.07*Units_serving_of_Peanut_Butter + 0.53*Units_serving_of_Peppers,_Sweet,_Raw + 0.44*Units_serving_of_Pizza_W_Pepperoni + 0.08*Units_serving_of_Poached_Eggs + 0.04*Units_serving_of_Popcorn,Air_Popped + 0.81*Units_serving_of_Pork + 0.22*Units_serving_of_Potato_Chips,Bbqflvr + 0.06*Units_serving_of_Potatoes,_Baked + 0.12*Units_serving_of_Pretzels + 0.34*Units_serving_of_Raisin_Brn,_Kellg'S + 0.32*Units_serving_of_Rice_Krispies + 0.84*Units_serving_of_Roasted_Chicken + 0.45*Units_serving_of_Sardines_in_Oil + 0.11*Units_serving_of_Scrambled_Eggs + 0.13*Units_serving_of_Skim_Milk + 0.78*Units_serving_of_Spaghetti_W__Sauce + 0.38*Units_serving_of_Special_K + 0.67*Units_serving_of_Splt_Pea&Hamsoup + 0.59*Units_serving_of_Taco + 0.31*Units_serving_of_Tofu + 0.27*Units_serving_of_Tomato,Red,Ripe,Raw + 0.39*Units_serving_of_Tomato_Soup + 0.19*Units_serving_of_Tortilla_Chip + 0.71*Units_serving_of_Vegetbeef_Soup + 0.05*Units_serving_of_Wheat_Bread + 0.06*Units_serving_of_White_Bread + 0.08*Units_serving_of_White_Rice + 0.69*Units_serving_of_White_Tuna_in_Water + 0.0\nVARIABLES\nUnits_serving_of_2%_Lowfat_Milk Continuous\nUnits_serving_of_3.3%_Fat,Whole_Milk Continuous\nUnits_serving_of_Apple,Raw,W_Skin Continuous\nUnits_serving_of_Apple_Pie Continuous\nUnits_serving_of_Bagels Continuous\nUnits_serving_of_Banana Continuous\nUnits_serving_of_Beanbacn_Soup,W_Watr Continuous\nUnits_serving_of_Bologna,Turkey Continuous\nUnits_serving_of_Butter,Regular Continuous\nUnits_serving_of_Cap'N_Crunch Continuous\nUnits_serving_of_Carrots,Raw Continuous\nUnits_serving_of_Celery,_Raw Continuous\nUnits_serving_of_Cheddar_Cheese Continuous\nUnits_serving_of_Cheerios Continuous\nUnits_serving_of_Chicknoodl_Soup Continuous\nUnits_serving_of_Chocolate_Chip_Cookies Continuous\nUnits_serving_of_Corn_Flks,_Kellogg'S Continuous\nUnits_serving_of_Couscous Continuous\nUnits_serving_of_Crm_Mshrm_Soup,W_Mlk Continuous\nUnits_serving_of_Frankfurter,_Beef Continuous\nUnits_serving_of_Frozen_Broccoli Continuous\nUnits_serving_of_Frozen_Corn Continuous\nUnits_serving_of_Grapes Continuous\nUnits_serving_of_Ham,Sliced,Extralean Continuous\nUnits_serving_of_Hamburger_W_Toppings Continuous\nUnits_serving_of_Hotdog,_Plain Continuous\nUnits_serving_of_Kielbasa,Prk Continuous\nUnits_serving_of_Kiwifruit,Raw,Fresh Continuous\nUnits_serving_of_Lettuce,Iceberg,Raw Continuous\nUnits_serving_of_Macaroni,Ckd Continuous\nUnits_serving_of_Malt_O_Meal,Choc Continuous\nUnits_serving_of_New_E_Clamchwd,W_Mlk Continuous\nUnits_serving_of_Neweng_Clamchwd Continuous\nUnits_serving_of_Oatmeal Continuous\nUnits_serving_of_Oatmeal_Cookies Continuous\nUnits_serving_of_Oranges Continuous\nUnits_serving_of_Peanut_Butter Continuous\nUnits_serving_of_Peppers,_Sweet,_Raw Continuous\nUnits_serving_of_Pizza_W_Pepperoni Continuous\nUnits_serving_of_Poached_Eggs Continuous\nUnits_serving_of_Popcorn,Air_Popped Continuous\nUnits_serving_of_Pork Continuous\nUnits_serving_of_Potato_Chips,Bbqflvr Continuous\nUnits_serving_of_Potatoes,_Baked Continuous\nUnits_serving_of_Pretzels Continuous\nUnits_serving_of_Raisin_Brn,_Kellg'S Continuous\nUnits_serving_of_Rice_Krispies Continuous\nUnits_serving_of_Roasted_Chicken Continuous\nUnits_serving_of_Sardines_in_Oil Continuous\nUnits_serving_of_Scrambled_Eggs Continuous\nUnits_serving_of_Skim_Milk Continuous\nUnits_serving_of_Spaghetti_W__Sauce Continuous\nUnits_serving_of_Special_K Continuous\nUnits_serving_of_Splt_Pea&Hamsoup Continuous\nUnits_serving_of_Taco Continuous\nUnits_serving_of_Tofu Continuous\nUnits_serving_of_Tomato,Red,Ripe,Raw Continuous\nUnits_serving_of_Tomato_Soup Continuous\nUnits_serving_of_Tortilla_Chip Continuous\nUnits_serving_of_Vegetbeef_Soup Continuous\nUnits_serving_of_Wheat_Bread Continuous\nUnits_serving_of_White_Bread Continuous\nUnits_serving_of_White_Rice Continuous\nUnits_serving_of_White_Tuna_in_Water Continuous\n\n"
     ]
    }
   ],
   "source": [
    "# add ObjectiveFunction with lpSum\n",
    "problem_cheapest += lpSum([cost_of[i] * X[i] for i in food_types]), \"TotalCost\"\n",
    "\n",
    "print(problem_cheapest)"
   ]
  },
  {
   "cell_type": "code",
   "execution_count": 10,
   "metadata": {
    "tags": []
   },
   "outputs": [],
   "source": [
    "# add Constraints with lpSum AND inequality signs\n",
    "for nutrient in nutrients_list:\n",
    "    minimum = constraint_of[nutrient]['Minimum']\n",
    "    maximum = constraint_of[nutrient]['Maximum']\n",
    "    problem_cheapest += lpSum([nutrient_dict[nutrient][i] * X[i] for i in food_types]) >= minimum, \"Min\" + nutrient\n",
    "    problem_cheapest += lpSum([nutrient_dict[nutrient][i] * X[i] for i in food_types]) <= maximum, \"Max\" + nutrient\n",
    "\n",
    "# enable print to show lengthy detailed information\n",
    "# print(problem_cheapest)"
   ]
  },
  {
   "cell_type": "code",
   "execution_count": 11,
   "metadata": {},
   "outputs": [
    {
     "output_type": "stream",
     "name": "stdout",
     "text": [
      "Minimum cost from optimized solution: 4.337\n\nConstraints:\n1. Each nutrient is NOT less than minimum requirement,\n2. Each nutrient is NOT more than maximum requirement.\n\nVariables selection from solution:\n\n{'Units_serving_of_Celery,_Raw': 52.64371,\n 'Units_serving_of_Frozen_Broccoli': 0.25960653,\n 'Units_serving_of_Lettuce,Iceberg,Raw': 63.988506,\n 'Units_serving_of_Oranges': 2.2929389,\n 'Units_serving_of_Poached_Eggs': 0.14184397,\n 'Units_serving_of_Popcorn,Air_Popped': 13.869322}\n"
     ]
    }
   ],
   "source": [
    "# solve Diet Optimization problem\n",
    "problem_cheapest.solve()\n",
    "vars_solution = dict()\n",
    "for v in problem_cheapest.variables():\n",
    "    if v.varValue > 0:\n",
    "        vars_solution[v.name] = v.varValue\n",
    "\n",
    "# print(vars_solution)\n",
    "# use pprint to nicely separate by line\n",
    "print(\"Minimum cost from optimized solution: {:.3f}\\n\".format(value(problem_cheapest.objective)))\n",
    "print(\"\"\"Constraints:\n",
    "1. Each nutrient is NOT less than minimum requirement,\n",
    "2. Each nutrient is NOT more than maximum requirement.\n",
    "\"\"\")\n",
    "print(\"Variables selection from solution:\\n\")\n",
    "import pprint\n",
    "pprint.pprint(vars_solution)"
   ]
  },
  {
   "cell_type": "code",
   "execution_count": null,
   "metadata": {},
   "outputs": [],
   "source": []
  }
 ]
}